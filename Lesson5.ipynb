{
 "cells": [
  {
   "cell_type": "markdown",
   "metadata": {},
   "source": [
    "# Задание 1"
   ]
  },
  {
   "cell_type": "markdown",
   "metadata": {},
   "source": [
    "Импортируйте библиотеки pandas, numpy и matplotlib."
   ]
  },
  {
   "cell_type": "code",
   "execution_count": 1,
   "metadata": {},
   "outputs": [],
   "source": [
    "import pandas as pd\n",
    "import numpy as np\n",
    "import matplotlib.pyplot as plt"
   ]
  },
  {
   "cell_type": "markdown",
   "metadata": {},
   "source": [
    "Загрузите \"Boston House Prices dataset\" из встроенных наборов данных библиотеки sklearn. "
   ]
  },
  {
   "cell_type": "code",
   "execution_count": 2,
   "metadata": {},
   "outputs": [
    {
     "data": {
      "text/plain": [
       "array(['CRIM', 'ZN', 'INDUS', 'CHAS', 'NOX', 'RM', 'AGE', 'DIS', 'RAD',\n",
       "       'TAX', 'PTRATIO', 'B', 'LSTAT'], dtype='<U7')"
      ]
     },
     "execution_count": 2,
     "metadata": {},
     "output_type": "execute_result"
    }
   ],
   "source": [
    "from sklearn.datasets import load_boston\n",
    "boston = load_boston()\n",
    "data = boston.data\n",
    "target = boston.target\n",
    "feature_names = boston.feature_names\n",
    "feature_names"
   ]
  },
  {
   "cell_type": "markdown",
   "metadata": {},
   "source": [
    "Создайте датафреймы X и y из этих данных."
   ]
  },
  {
   "cell_type": "code",
   "execution_count": 3,
   "metadata": {},
   "outputs": [],
   "source": [
    "X = pd.DataFrame(data, columns=feature_names)\n",
    "y = pd.DataFrame(target, columns=['price'])"
   ]
  },
  {
   "cell_type": "markdown",
   "metadata": {},
   "source": [
    "Разбейте эти датафреймы на тренировочные (X_train, y_train) и тестовые (X_test, y_test)\n",
    "с помощью функции train_test_split так, чтобы размер тестовой выборки \n",
    "составлял 20% от всех данных, при этом аргумент random_state должен быть равен 42."
   ]
  },
  {
   "cell_type": "code",
   "execution_count": 4,
   "metadata": {},
   "outputs": [],
   "source": [
    "from sklearn.model_selection import train_test_split"
   ]
  },
  {
   "cell_type": "code",
   "execution_count": 5,
   "metadata": {},
   "outputs": [],
   "source": [
    "X_train, X_test, y_train, y_test = train_test_split(X, y, test_size=0.2, random_state=42)"
   ]
  },
  {
   "cell_type": "markdown",
   "metadata": {},
   "source": [
    "Масштабируйте данные с помощью StandardScaler."
   ]
  },
  {
   "cell_type": "code",
   "execution_count": 6,
   "metadata": {},
   "outputs": [],
   "source": [
    "from sklearn.preprocessing import StandardScaler"
   ]
  },
  {
   "cell_type": "code",
   "execution_count": 7,
   "metadata": {},
   "outputs": [],
   "source": [
    "scaler = StandardScaler()"
   ]
  },
  {
   "cell_type": "code",
   "execution_count": 8,
   "metadata": {},
   "outputs": [],
   "source": [
    "X_train_scaled = scaler.fit_transform(X_train)\n",
    "X_train_scaled = pd.DataFrame(X_train_scaled, columns=X_train.columns)"
   ]
  },
  {
   "cell_type": "code",
   "execution_count": 9,
   "metadata": {},
   "outputs": [],
   "source": [
    "X_test_scaled = scaler.fit_transform(X_test)\n",
    "X_test_scaled = pd.DataFrame(X_test_scaled, columns=X_test.columns)"
   ]
  },
  {
   "cell_type": "markdown",
   "metadata": {},
   "source": [
    "Постройте модель TSNE на тренировочный данных с параметрами:\n",
    "n_components=2, learning_rate=250, random_state=42."
   ]
  },
  {
   "cell_type": "code",
   "execution_count": 10,
   "metadata": {},
   "outputs": [],
   "source": [
    "from sklearn.manifold import TSNE"
   ]
  },
  {
   "cell_type": "code",
   "execution_count": 11,
   "metadata": {},
   "outputs": [],
   "source": [
    "tsne = TSNE(n_components=2, learning_rate=250, random_state=42)"
   ]
  },
  {
   "cell_type": "code",
   "execution_count": 12,
   "metadata": {},
   "outputs": [],
   "source": [
    "X_train_tsne = tsne.fit_transform(X_train_scaled)"
   ]
  },
  {
   "cell_type": "code",
   "execution_count": 13,
   "metadata": {},
   "outputs": [
    {
     "data": {
      "text/plain": [
       "array([[ 2.12204380e+01, -2.16663609e+01],\n",
       "       [-6.79995298e+00,  4.41380024e+00],\n",
       "       [-1.87418709e+01,  1.32762280e+01],\n",
       "       [ 3.20674477e+01, -2.15891914e+01],\n",
       "       [-9.15039420e-01,  1.28781483e-01],\n",
       "       [-1.21875181e+01,  6.96958160e+00],\n",
       "       [-1.03621044e+01,  7.09753466e+00],\n",
       "       [-2.46114998e+01,  1.63093758e+01],\n",
       "       [ 3.20815125e+01, -2.32640839e+01],\n",
       "       [ 2.93028183e+01, -2.29462776e+01],\n",
       "       [-1.06919060e+01,  7.79876375e+00],\n",
       "       [-4.99778986e+00,  9.21782780e+00],\n",
       "       [-5.81789732e+00,  1.36191263e+01],\n",
       "       [ 2.97544537e+01, -2.20396004e+01],\n",
       "       [-5.14851332e+00,  1.48995562e+01],\n",
       "       [-2.54496038e-01, -2.95872545e+00],\n",
       "       [-1.93291998e+00,  3.00332975e+00],\n",
       "       [-1.84606037e+01,  1.46066751e+01],\n",
       "       [-1.43312941e+01,  1.03175507e+01],\n",
       "       [-1.80831432e+01,  9.17829418e+00],\n",
       "       [ 2.62317581e+01, -2.41894951e+01],\n",
       "       [-2.92340100e-01,  5.35461235e+00],\n",
       "       [-1.36408653e+01,  6.43175077e+00],\n",
       "       [-8.10261536e+00,  6.11616421e+00],\n",
       "       [-2.45154285e+01,  1.65936966e+01],\n",
       "       [-5.39537287e+00,  1.27990208e+01],\n",
       "       [ 5.32126904e+00, -1.30163240e+01],\n",
       "       [-7.57375050e+00,  1.60589771e+01],\n",
       "       [ 1.09281979e+01, -8.65995347e-01],\n",
       "       [-1.57025194e+01,  5.23263407e+00],\n",
       "       [ 7.85047889e-01, -1.32664430e+00],\n",
       "       [ 9.72514570e-01,  4.56847382e+00],\n",
       "       [ 1.10465593e+01,  5.11157846e+00],\n",
       "       [ 2.98142071e+01, -2.09487381e+01],\n",
       "       [-9.44722652e+00,  6.23807669e+00],\n",
       "       [-2.41409492e+01,  1.80254059e+01],\n",
       "       [-2.11764412e+01,  1.75550747e+01],\n",
       "       [ 6.22033477e-01, -1.98878396e+00],\n",
       "       [-4.60248366e-02, -1.26879740e+00],\n",
       "       [-2.24745598e+01,  1.74563408e+01],\n",
       "       [-2.28528976e+01,  1.60774174e+01],\n",
       "       [ 1.47526979e+00, -1.21409245e+01],\n",
       "       [ 2.36433544e+01, -2.32905598e+01],\n",
       "       [-7.22077936e-02,  1.00304823e+01],\n",
       "       [ 5.13645601e+00, -1.35962839e+01],\n",
       "       [ 1.78695927e+01, -2.32480183e+01],\n",
       "       [ 1.06254697e+00, -2.64786720e+00],\n",
       "       [-5.64337826e+00,  1.68984032e+01],\n",
       "       [ 3.04320259e+01, -2.17398376e+01],\n",
       "       [ 1.71957035e+01, -2.33487930e+01],\n",
       "       [-9.10003662e+00,  1.05651512e+01],\n",
       "       [-5.72931230e-01,  5.13836432e+00],\n",
       "       [-1.11981764e+01,  4.80009556e+00],\n",
       "       [-8.94030952e+00,  4.44030762e+00],\n",
       "       [ 1.75212383e+01, -2.68711662e+01],\n",
       "       [ 1.43530426e+01, -2.39723244e+01],\n",
       "       [-9.15353394e+00,  1.12855272e+01],\n",
       "       [ 2.49470615e+01, -2.42644081e+01],\n",
       "       [-5.13916540e+00,  8.71156693e+00],\n",
       "       [-1.45554018e+01,  1.02041073e+01],\n",
       "       [-1.26264560e+00,  1.50675762e+00],\n",
       "       [-7.64970064e+00,  6.63423586e+00],\n",
       "       [-9.13798523e+00, -4.17367697e+00],\n",
       "       [ 1.05559707e+00, -5.26391976e-02],\n",
       "       [-1.11726913e+01, -6.68724394e+00],\n",
       "       [ 1.81465263e+01, -2.49355526e+01],\n",
       "       [ 4.16944847e-02, -1.87885559e+00],\n",
       "       [-9.18090916e+00, -1.60108700e-01],\n",
       "       [ 1.10172520e+01, -4.64625740e+00],\n",
       "       [ 2.48392534e+00, -3.57917041e-01],\n",
       "       [-8.86602688e+00,  5.96065283e+00],\n",
       "       [-3.13804412e+00, -6.72324598e-01],\n",
       "       [ 1.53432693e+01, -2.63405094e+01],\n",
       "       [-1.28797159e-01,  4.14218378e+00],\n",
       "       [ 1.30841564e-02,  5.66718960e+00],\n",
       "       [-2.96969271e+00,  1.23162632e+01],\n",
       "       [-1.89475803e+01,  1.72622166e+01],\n",
       "       [-1.08797655e+01,  1.28207941e+01],\n",
       "       [ 1.12514057e+01,  4.81586599e+00],\n",
       "       [ 2.19027176e+01, -2.02899952e+01],\n",
       "       [ 2.00314922e+01, -2.13738594e+01],\n",
       "       [ 9.83399582e+00, -1.95769119e+01],\n",
       "       [-7.73375928e-01, -1.39085836e+01],\n",
       "       [ 1.13551819e+00, -1.40385742e+01],\n",
       "       [ 3.14578476e+01, -2.18609905e+01],\n",
       "       [ 1.19208908e+01, -2.78834915e+00],\n",
       "       [ 8.64956284e+00, -1.95730305e+01],\n",
       "       [-1.61824036e+01,  7.96535444e+00],\n",
       "       [ 1.54732676e+01, -2.32410812e+01],\n",
       "       [ 6.33423567e+00,  6.03896523e+00],\n",
       "       [-8.63072515e-01,  3.22661924e+00],\n",
       "       [ 1.85613976e+01, -2.26915588e+01],\n",
       "       [ 2.19028893e+01, -2.33794346e+01],\n",
       "       [-2.11489925e+01,  1.77994175e+01],\n",
       "       [-1.84401741e+01,  9.34257126e+00],\n",
       "       [ 2.25718856e+00, -1.23846626e+00],\n",
       "       [ 1.69110489e+01, -2.22659931e+01],\n",
       "       [ 1.05551147e+01,  6.39050102e+00],\n",
       "       [-1.08491316e-01,  1.01418304e+01],\n",
       "       [ 5.17523813e+00, -1.36971254e+01],\n",
       "       [ 9.79039788e-01, -1.39087286e+01],\n",
       "       [-1.13560162e+01,  1.46813507e+01],\n",
       "       [-1.31736670e+01,  1.24970255e+01],\n",
       "       [-1.63561993e+01,  1.03372412e+01],\n",
       "       [ 6.65645218e+00,  6.44224834e+00],\n",
       "       [ 2.69361734e+00, -1.54403791e+01],\n",
       "       [-2.48700886e+01,  1.79759865e+01],\n",
       "       [-5.96154070e+00,  1.43095827e+01],\n",
       "       [-1.29542036e+01,  5.26850128e+00],\n",
       "       [-3.25917578e+00,  6.50236464e+00],\n",
       "       [ 3.10131073e+01, -2.17623272e+01],\n",
       "       [-1.99039612e+01,  8.73159885e+00],\n",
       "       [-1.02355778e+00,  4.19296312e+00],\n",
       "       [-2.39363213e+01,  1.86421509e+01],\n",
       "       [-1.82599945e+01,  1.52295742e+01],\n",
       "       [ 1.50907879e+01, -2.81267242e+01],\n",
       "       [ 9.49576473e+00, -1.94161377e+01],\n",
       "       [ 2.22860718e+01, -2.27446251e+01],\n",
       "       [-3.19561648e+00,  1.57768307e+01],\n",
       "       [-1.05360479e+01, -6.08903122e+00],\n",
       "       [-6.02163410e+00,  1.42696590e+01],\n",
       "       [ 2.28125000e+01, -2.14518166e+01],\n",
       "       [ 1.74590969e+01, -2.50226040e+01],\n",
       "       [-5.14941597e+00,  6.26519632e+00],\n",
       "       [-2.33096161e+01,  1.98035030e+01],\n",
       "       [ 9.62345219e+00, -2.60346270e+00],\n",
       "       [ 1.69462681e+01, -1.95636997e+01],\n",
       "       [-1.47527771e+01,  1.07963667e+01],\n",
       "       [-2.08166580e+01,  1.56235733e+01],\n",
       "       [ 2.12589340e+01, -2.38839970e+01],\n",
       "       [-1.57497168e+01,  1.01170912e+01],\n",
       "       [-6.37304634e-02,  6.47014380e+00],\n",
       "       [-4.68580389e+00,  1.33635426e+01],\n",
       "       [-9.48286343e+00, -5.61290884e+00],\n",
       "       [-1.12523365e+01,  7.14610219e-01],\n",
       "       [ 7.80800343e+00, -1.92394714e+01],\n",
       "       [ 3.15231299e+00,  1.62162793e+00],\n",
       "       [-1.70052109e+01,  1.65089512e+01],\n",
       "       [ 5.95021915e+00,  5.38905907e+00],\n",
       "       [ 9.23744011e+00,  5.14389515e+00],\n",
       "       [-4.11500359e+00,  1.02674580e+01],\n",
       "       [ 1.89205418e+01, -2.20365639e+01],\n",
       "       [-5.08621740e+00,  7.99337006e+00],\n",
       "       [-2.42745328e+00,  6.56728554e+00],\n",
       "       [-9.16324806e+00, -1.78608686e-01],\n",
       "       [ 2.31875648e+01, -2.06606388e+01],\n",
       "       [ 2.05139780e+00, -8.78918827e-01],\n",
       "       [-1.21734152e+01,  1.25285263e+01],\n",
       "       [-9.69518852e+00,  5.76942730e+00],\n",
       "       [-3.30291581e+00,  4.44421482e+00],\n",
       "       [ 6.97071362e+00,  6.52369690e+00],\n",
       "       [ 1.94439106e+01, -2.54303551e+01],\n",
       "       [-2.24881096e+01,  1.84730835e+01],\n",
       "       [-1.35925188e+01,  2.36402845e+00],\n",
       "       [-2.31793270e+01,  1.96813755e+01],\n",
       "       [ 1.88375988e+01, -2.42741776e+01],\n",
       "       [ 9.94811630e+00,  6.53658199e+00],\n",
       "       [ 1.77529945e+01, -2.40384445e+01],\n",
       "       [ 1.12558489e+01,  4.84647655e+00],\n",
       "       [ 3.07213383e+01, -2.21869221e+01],\n",
       "       [-2.05801868e+01,  1.59919806e+01],\n",
       "       [ 1.07445345e+01, -7.93528199e-01],\n",
       "       [ 1.20207367e+01, -3.82010269e+00],\n",
       "       [-5.54604673e+00,  9.03583527e+00],\n",
       "       [ 1.08161936e+01,  4.91106796e+00],\n",
       "       [-1.70854931e+01,  1.47858543e+01],\n",
       "       [-1.29618998e+01,  1.48899288e+01],\n",
       "       [-5.09695911e+00,  1.56541510e+01],\n",
       "       [-2.57055664e+01,  1.63299026e+01],\n",
       "       [ 9.99361515e+00, -5.53295076e-01],\n",
       "       [-5.10938120e+00,  1.16727200e+01],\n",
       "       [-2.41340008e+01,  1.97286587e+01],\n",
       "       [-1.66962528e+01,  9.72978210e+00],\n",
       "       [ 1.54954596e+01, -2.80737762e+01],\n",
       "       [-1.71690826e+01,  1.52127113e+01],\n",
       "       [-2.46288757e+01,  1.39096355e+01],\n",
       "       [ 2.70346012e+01, -2.39768429e+01],\n",
       "       [ 2.06130009e+01, -2.06667233e+01],\n",
       "       [-2.46213303e+01,  1.54061899e+01],\n",
       "       [ 9.66429806e+00, -4.01642889e-01],\n",
       "       [-1.10208864e+01,  1.40388870e+01],\n",
       "       [-3.70640945e+00,  1.07700262e+01],\n",
       "       [ 1.74488811e+01, -2.08335133e+01],\n",
       "       [ 1.93594515e+00, -1.37305565e+01],\n",
       "       [ 1.02160025e+01, -3.12007332e+00],\n",
       "       [ 3.10753593e+01, -2.03372345e+01],\n",
       "       [-2.08521671e+01,  2.02694645e+01],\n",
       "       [-1.80051136e+01,  1.26160278e+01],\n",
       "       [ 2.51268635e+01, -2.44037933e+01],\n",
       "       [ 1.50358047e+01, -2.70915699e+01],\n",
       "       [ 9.53637123e+00, -1.95095081e+01],\n",
       "       [-1.21316519e+01,  1.70563745e+00],\n",
       "       [-1.29732199e+01,  2.32031488e+00],\n",
       "       [ 8.47996902e+00, -1.95014858e+01],\n",
       "       [ 3.23338242e+01, -2.38696232e+01],\n",
       "       [ 7.87416279e-01,  4.50493193e+00],\n",
       "       [-4.30113125e+00,  1.32168779e+01],\n",
       "       [-3.75364065e+00,  2.64218283e+00],\n",
       "       [-1.65177422e+01,  4.25376129e+00],\n",
       "       [-1.07625675e+01,  7.87013817e+00],\n",
       "       [ 1.55868340e+01, -2.75167751e+01],\n",
       "       [ 3.16182575e+01, -2.10223942e+01],\n",
       "       [-5.78855753e+00,  1.61541576e+01],\n",
       "       [-1.27493525e+00,  7.34984875e+00],\n",
       "       [ 6.47837400e+00,  5.09279251e+00],\n",
       "       [ 9.60100937e+00, -3.15562367e+00],\n",
       "       [-2.30023212e+01,  1.94861946e+01],\n",
       "       [-1.00876808e+01, -6.23967409e+00],\n",
       "       [-6.01626539e+00,  1.63968792e+01],\n",
       "       [ 4.68248576e-01,  4.29336691e+00],\n",
       "       [ 9.53118801e+00, -1.69304386e-01],\n",
       "       [-2.44966488e+01,  1.46107435e+01],\n",
       "       [-5.53916788e+00,  1.63470287e+01],\n",
       "       [ 2.33372383e+01, -2.11134663e+01],\n",
       "       [-7.49511003e+00,  5.33292580e+00],\n",
       "       [ 1.00284281e+01, -3.23574162e+00],\n",
       "       [-2.13213806e+01,  1.66630173e+01],\n",
       "       [ 3.15565777e+01, -2.38547668e+01],\n",
       "       [ 2.51859689e+00, -1.01926482e+00],\n",
       "       [ 2.26220417e+01, -2.01127853e+01],\n",
       "       [ 1.67789574e+01, -2.23864117e+01],\n",
       "       [ 9.47871971e+00, -3.37616849e+00],\n",
       "       [ 2.55375137e+01, -2.06909466e+01],\n",
       "       [-1.13609352e+01,  4.89008045e+00],\n",
       "       [-3.21008134e+00,  2.23532724e+00],\n",
       "       [-2.29750233e+01,  1.71127853e+01],\n",
       "       [-2.41713600e+01,  2.20508175e+01],\n",
       "       [-7.46508503e+00,  1.07319221e+01],\n",
       "       [-1.63812103e+01,  1.35405731e+01],\n",
       "       [-4.35082102e+00,  1.52921352e+01],\n",
       "       [ 3.22520180e+01, -2.27999935e+01],\n",
       "       [ 8.70167351e+00,  5.09768724e+00],\n",
       "       [-1.15309677e+01,  8.53411496e-01],\n",
       "       [-5.03795862e+00,  6.44125938e+00],\n",
       "       [ 8.73097539e-01, -4.47232395e-01],\n",
       "       [ 6.96274424e+00,  5.89092636e+00],\n",
       "       [ 5.40515280e+00, -1.38487759e+01],\n",
       "       [ 1.84317513e+01, -2.36961021e+01],\n",
       "       [-1.99734745e+01,  1.05702906e+01],\n",
       "       [ 1.54125333e+00, -1.25934124e+01],\n",
       "       [-6.38193989e+00,  1.11509190e+01],\n",
       "       [-1.58915863e+01,  1.27408247e+01],\n",
       "       [-1.63542843e+01,  1.45944080e+01],\n",
       "       [ 1.98799572e+01, -2.41655083e+01],\n",
       "       [ 2.00143490e+01, -2.16627007e+01],\n",
       "       [-4.33248091e+00,  1.19183083e+01],\n",
       "       [-1.38442488e+01,  6.84083223e+00],\n",
       "       [ 2.15330372e+01, -2.30626431e+01],\n",
       "       [ 1.68133240e+01, -2.41223145e+01],\n",
       "       [-7.69760323e+00,  7.29968691e+00],\n",
       "       [-6.15827441e-01, -1.44713182e+01],\n",
       "       [-2.40579281e+01,  1.60398178e+01],\n",
       "       [ 3.13817711e+01, -2.31317005e+01],\n",
       "       [-9.04824066e+00,  1.13908234e+01],\n",
       "       [-2.44310551e+01,  1.93159275e+01],\n",
       "       [ 1.46401653e+01, -2.22822666e+01],\n",
       "       [ 2.41371298e+00,  3.57236415e-01],\n",
       "       [-6.04849339e+00,  1.57378664e+01],\n",
       "       [ 2.99469299e+01, -2.26341839e+01],\n",
       "       [-9.00425339e+00,  7.20646381e+00],\n",
       "       [ 3.05075493e+01, -2.04068985e+01],\n",
       "       [ 6.65529585e+00,  5.41749859e+00],\n",
       "       [-3.73071194e+00,  1.55512409e+01],\n",
       "       [-2.08208885e+01,  2.02177982e+01],\n",
       "       [-8.44471836e+00,  7.13200903e+00],\n",
       "       [-1.39066668e+01,  1.03841505e+01],\n",
       "       [-7.89556932e+00,  1.43654048e+00],\n",
       "       [-5.76256275e-01, -4.10731316e+00],\n",
       "       [-1.15374117e+01, -6.31043911e+00],\n",
       "       [-9.09570217e+00,  5.29036283e+00],\n",
       "       [-2.49577866e+01,  1.82803650e+01],\n",
       "       [ 1.64178391e+01, -2.32257080e+01],\n",
       "       [-5.53160198e-02, -3.11247635e+00],\n",
       "       [ 1.70149288e+01, -2.41540928e+01],\n",
       "       [-3.93476224e+00,  7.54558134e+00],\n",
       "       [-1.01864252e+01, -5.60974598e+00],\n",
       "       [-2.07415333e+01,  1.55111246e+01],\n",
       "       [ 2.71087241e+00, -1.53097181e+01],\n",
       "       [ 3.13494701e+01, -2.26089668e+01],\n",
       "       [ 1.03154984e+01, -2.71737266e+00],\n",
       "       [-1.53100224e+01,  1.09700766e+01],\n",
       "       [ 9.17640114e+00, -2.67238140e+00],\n",
       "       [ 8.89680481e+00, -2.76960325e+00],\n",
       "       [ 1.41851807e+01, -2.65417881e+01],\n",
       "       [-8.13689613e+00, -3.58400673e-01],\n",
       "       [-1.13385391e+01,  6.94336271e+00],\n",
       "       [ 1.68077221e+01, -2.73237801e+01],\n",
       "       [-1.88713303e+01,  1.08991156e+01],\n",
       "       [-2.29151039e+01,  1.82487583e+01],\n",
       "       [ 6.27460927e-02, -4.90416437e-01],\n",
       "       [ 9.96785355e+00,  6.84524918e+00],\n",
       "       [-2.09577999e+01,  1.99727287e+01],\n",
       "       [ 2.03815784e+01, -2.35544853e+01],\n",
       "       [ 1.60142345e+01, -2.80704403e+01],\n",
       "       [ 1.75011806e+01, -2.07443237e+01],\n",
       "       [ 1.77945554e+00, -1.31265984e+01],\n",
       "       [-1.57198801e+01,  1.66225166e+01],\n",
       "       [ 1.96953392e+01, -2.18809433e+01],\n",
       "       [ 3.01238203e+00,  1.56668985e+00],\n",
       "       [-7.70364761e+00,  4.99576092e+00],\n",
       "       [ 9.52291727e-01, -1.37187729e+01],\n",
       "       [-3.87564063e+00,  4.11207390e+00],\n",
       "       [ 1.12829661e+00, -1.26910086e+01],\n",
       "       [-1.37462358e+01,  2.63969326e+00],\n",
       "       [ 1.57688837e+01, -2.46398602e+01],\n",
       "       [-1.82247219e+01,  8.94396019e+00],\n",
       "       [-2.34724760e+00,  2.64225483e+00],\n",
       "       [ 1.58120451e+01, -2.60091763e+01],\n",
       "       [-1.82260590e+01,  1.60400295e+01],\n",
       "       [-1.99891777e+01,  1.06870584e+01],\n",
       "       [ 7.05343544e-01, -1.28532209e+01],\n",
       "       [-2.27604923e+01,  1.67666531e+01],\n",
       "       [ 3.66227984e+00,  5.03771544e+00],\n",
       "       [-1.36145620e+01,  6.39124680e+00],\n",
       "       [-3.05852592e-01,  7.72593021e+00],\n",
       "       [ 1.92832928e+01, -2.35485325e+01],\n",
       "       [-1.92097054e+01,  1.70197792e+01],\n",
       "       [-2.15113401e+00,  5.84578133e+00],\n",
       "       [-9.89516926e+00, -5.31748819e+00],\n",
       "       [ 2.51030993e+00, -1.89229500e+00],\n",
       "       [-1.82053833e+01,  1.30618181e+01],\n",
       "       [ 1.93705978e+01, -2.13363647e+01],\n",
       "       [-6.31288815e+00,  9.88158321e+00],\n",
       "       [ 1.63432121e+01, -2.26193409e+01],\n",
       "       [ 1.12559357e+01, -4.43755674e+00],\n",
       "       [-8.28611183e+00,  1.92221987e+00],\n",
       "       [ 3.08742294e+01, -2.29647694e+01],\n",
       "       [-1.32368364e+01,  1.31931086e+01],\n",
       "       [-1.05968084e+01,  5.65041256e+00],\n",
       "       [-1.30593687e-01, -4.07847977e+00],\n",
       "       [ 3.00689049e+01, -2.14816265e+01],\n",
       "       [-9.86539555e+00, -6.12824106e+00],\n",
       "       [ 2.75624256e+01, -2.38249626e+01],\n",
       "       [ 1.78751240e+01, -1.98688335e+01],\n",
       "       [-5.04007912e+00,  1.01656828e+01],\n",
       "       [-8.40641880e+00,  5.43168116e+00],\n",
       "       [ 1.75490208e+01, -2.58105640e+01],\n",
       "       [-1.83226757e+01,  1.38746748e+01],\n",
       "       [-1.56664801e+01,  8.95104599e+00],\n",
       "       [-1.02142181e+01, -5.73751497e+00],\n",
       "       [-1.59084635e+01,  1.30679741e+01],\n",
       "       [-6.66669083e+00,  4.39791775e+00],\n",
       "       [-2.68939924e+00,  5.05777693e+00],\n",
       "       [-5.17016172e+00,  1.26080132e+01],\n",
       "       [ 2.24125862e+01, -2.12004433e+01],\n",
       "       [-2.96829969e-01, -1.41659966e+01],\n",
       "       [-3.70891762e+00, -1.11059952e+00],\n",
       "       [-1.57572775e+01,  5.11224031e+00],\n",
       "       [-1.36725211e+00,  3.30536199e+00],\n",
       "       [ 9.36298752e+00, -4.06193638e+00],\n",
       "       [-1.01773853e+01,  1.47611341e+01],\n",
       "       [ 1.59887037e+01, -2.64587994e+01],\n",
       "       [-3.60405922e+00,  5.51617384e+00],\n",
       "       [-1.89961166e+01,  1.42002916e+01],\n",
       "       [-2.41590309e+01,  1.34150410e+01],\n",
       "       [ 9.76152039e+00, -1.96907749e+01],\n",
       "       [-1.65331478e+01,  1.25672598e+01],\n",
       "       [ 1.57839470e+01, -2.40663929e+01],\n",
       "       [-3.92952156e+00,  8.64958096e+00],\n",
       "       [ 3.22109108e+01, -2.21031475e+01],\n",
       "       [-1.77219276e+01,  1.76010914e+01],\n",
       "       [ 1.83374369e+00,  1.54336929e+00],\n",
       "       [ 1.48687582e+01, -2.45643673e+01],\n",
       "       [-1.74186115e+01,  1.76287651e+01],\n",
       "       [ 6.12122345e+00,  5.82113600e+00],\n",
       "       [-1.71434307e+01,  9.62185669e+00],\n",
       "       [-7.60199785e+00, -2.74587691e-01],\n",
       "       [-1.94885368e+01,  1.81554508e+01],\n",
       "       [-3.96793032e+00,  7.59562206e+00],\n",
       "       [-1.91434956e+01,  9.00805092e+00],\n",
       "       [ 4.56970155e-01, -1.28479350e+00],\n",
       "       [-1.59985638e+00,  6.95035744e+00],\n",
       "       [ 1.61439362e+01, -2.45415516e+01],\n",
       "       [ 2.99783444e+00, -1.41707830e+01],\n",
       "       [-5.85960448e-01, -1.40276747e+01],\n",
       "       [ 1.77543831e+01, -2.32058468e+01],\n",
       "       [-1.91041069e+01,  1.69101067e+01],\n",
       "       [ 2.17761364e+01, -2.11025715e+01],\n",
       "       [-1.34156075e+01,  3.05382562e+00],\n",
       "       [ 2.42934761e+01, -2.21984367e+01],\n",
       "       [-1.87869930e+01,  1.85817814e+01],\n",
       "       [-1.14786167e+01, -6.78443718e+00],\n",
       "       [-1.45990348e+00,  7.93478251e+00],\n",
       "       [ 1.02938948e+01,  5.18937969e+00],\n",
       "       [ 8.62957001e+00, -2.90576148e+00],\n",
       "       [ 9.58763123e+00,  5.30375290e+00],\n",
       "       [ 1.50965996e+01, -2.38993378e+01],\n",
       "       [-4.60830259e+00,  1.42417221e+01],\n",
       "       [ 9.22391987e+00, -1.98860950e+01],\n",
       "       [-6.46826410e+00,  8.66033649e+00],\n",
       "       [ 1.59881582e+01, -2.19619427e+01],\n",
       "       [-1.59150953e+01,  5.01316357e+00],\n",
       "       [-4.51295233e+00,  1.78147721e+00],\n",
       "       [ 3.11615105e+01, -2.10188942e+01],\n",
       "       [ 9.60149384e+00, -3.22327256e-01],\n",
       "       [ 1.81964910e+00,  1.55643833e+00],\n",
       "       [ 1.14044166e+00, -3.01904035e+00],\n",
       "       [-1.80091991e+01,  1.72154789e+01],\n",
       "       [-1.23727293e+01,  5.64997292e+00],\n",
       "       [ 2.39609838e+00, -2.17422104e+00],\n",
       "       [-1.02716694e+01,  4.36383438e+00],\n",
       "       [-2.41569862e+01,  1.69517994e+01],\n",
       "       [ 3.05609760e+01, -2.32501907e+01],\n",
       "       [ 6.07379824e-02, -4.94087839e+00]], dtype=float32)"
      ]
     },
     "execution_count": 13,
     "metadata": {},
     "output_type": "execute_result"
    }
   ],
   "source": [
    "X_train_tsne"
   ]
  },
  {
   "cell_type": "markdown",
   "metadata": {},
   "source": [
    "Постройте диаграмму рассеяния на этих данных."
   ]
  },
  {
   "cell_type": "code",
   "execution_count": 14,
   "metadata": {},
   "outputs": [
    {
     "data": {
      "image/png": "[encoded data removed]",
      "text/plain": [
       "<Figure size 432x288 with 1 Axes>"
      ]
     },
     "metadata": {
      "needs_background": "light"
     },
     "output_type": "display_data"
    }
   ],
   "source": [
    "plt.scatter(X_train_tsne[:, 0], X_train_tsne[:, 1])\n",
    "plt.show()"
   ]
  },
  {
   "cell_type": "markdown",
   "metadata": {},
   "source": [
    "# Задание 2"
   ]
  },
  {
   "cell_type": "markdown",
   "metadata": {},
   "source": [
    "С помощью KMeans разбейте данные из тренировочного набора на 3 кластера, \n",
    "используйте все признаки из датафрейма X_train.\n",
    "Параметр max_iter должен быть равен 100, random_state сделайте равным 42."
   ]
  },
  {
   "cell_type": "code",
   "execution_count": 15,
   "metadata": {},
   "outputs": [],
   "source": [
    "from sklearn.cluster import KMeans"
   ]
  },
  {
   "cell_type": "code",
   "execution_count": 16,
   "metadata": {},
   "outputs": [],
   "source": [
    "kmeans = KMeans(n_clusters=3, max_iter=100, random_state=42)"
   ]
  },
  {
   "cell_type": "code",
   "execution_count": 17,
   "metadata": {},
   "outputs": [],
   "source": [
    "labels_train = kmeans.fit_predict(X_train_scaled)"
   ]
  },
  {
   "cell_type": "markdown",
   "metadata": {},
   "source": [
    "Постройте еще раз диаграмму рассеяния на данных, полученных с помощью TSNE,\n",
    "и раскрасьте точки из разных кластеров разными цветами."
   ]
  },
  {
   "cell_type": "code",
   "execution_count": 18,
   "metadata": {},
   "outputs": [
    {
     "data": {
      "image/png": "[encoded data removed]",
      "text/plain": [
       "<Figure size 432x288 with 1 Axes>"
      ]
     },
     "metadata": {
      "needs_background": "light"
     },
     "output_type": "display_data"
    }
   ],
   "source": [
    "plt.scatter(X_train_tsne[:, 0], X_train_tsne[:, 1], c=labels_train)\n",
    "plt.show()"
   ]
  },
  {
   "cell_type": "markdown",
   "metadata": {},
   "source": [
    "Вычислите средние значения price и CRIM в разных кластерах."
   ]
  },
  {
   "cell_type": "code",
   "execution_count": 19,
   "metadata": {},
   "outputs": [
    {
     "data": {
      "text/plain": [
       "price    24.971204\n",
       "dtype: float64"
      ]
     },
     "execution_count": 19,
     "metadata": {},
     "output_type": "execute_result"
    }
   ],
   "source": [
    "y_train[labels_train==0].mean()"
   ]
  },
  {
   "cell_type": "code",
   "execution_count": 20,
   "metadata": {},
   "outputs": [
    {
     "data": {
      "text/plain": [
       "0.42098554973821983"
      ]
     },
     "execution_count": 20,
     "metadata": {},
     "output_type": "execute_result"
    }
   ],
   "source": [
    "CRIM = X_train['CRIM']\n",
    "CRIM[labels_train==0].mean()"
   ]
  },
  {
   "cell_type": "code",
   "execution_count": 21,
   "metadata": {},
   "outputs": [
    {
     "data": {
      "text/plain": [
       "price    16.179688\n",
       "dtype: float64"
      ]
     },
     "execution_count": 21,
     "metadata": {},
     "output_type": "execute_result"
    }
   ],
   "source": [
    "y_train[labels_train==1].mean()"
   ]
  },
  {
   "cell_type": "code",
   "execution_count": 22,
   "metadata": {},
   "outputs": [
    {
     "data": {
      "text/plain": [
       "10.637094062500003"
      ]
     },
     "execution_count": 22,
     "metadata": {},
     "output_type": "execute_result"
    }
   ],
   "source": [
    "CRIM[labels_train==1].mean()"
   ]
  },
  {
   "cell_type": "code",
   "execution_count": 23,
   "metadata": {},
   "outputs": [
    {
     "data": {
      "text/plain": [
       "price    27.874118\n",
       "dtype: float64"
      ]
     },
     "execution_count": 23,
     "metadata": {},
     "output_type": "execute_result"
    }
   ],
   "source": [
    "y_train[labels_train==2].mean()"
   ]
  },
  {
   "cell_type": "code",
   "execution_count": 24,
   "metadata": {},
   "outputs": [
    {
     "data": {
      "text/plain": [
       "0.0721184705882353"
      ]
     },
     "execution_count": 24,
     "metadata": {},
     "output_type": "execute_result"
    }
   ],
   "source": [
    "CRIM[labels_train==2].mean()"
   ]
  },
  {
   "cell_type": "markdown",
   "metadata": {},
   "source": [
    "# * Задание 3"
   ]
  },
  {
   "cell_type": "markdown",
   "metadata": {},
   "source": [
    "Примените модель KMeans, построенную в предыдущем задании,\n",
    "к данным из тестового набора."
   ]
  },
  {
   "cell_type": "code",
   "execution_count": 25,
   "metadata": {},
   "outputs": [],
   "source": [
    "X_test_tsne = tsne.fit_transform(X_test_scaled)"
   ]
  },
  {
   "cell_type": "code",
   "execution_count": 26,
   "metadata": {},
   "outputs": [
    {
     "data": {
      "image/png": "[encoded data removed]",
      "text/plain": [
       "<Figure size 432x288 with 1 Axes>"
      ]
     },
     "metadata": {
      "needs_background": "light"
     },
     "output_type": "display_data"
    }
   ],
   "source": [
    "plt.scatter(X_test_tsne[:, 0], X_test_tsne[:, 1])\n",
    "plt.show()"
   ]
  },
  {
   "cell_type": "code",
   "execution_count": 27,
   "metadata": {},
   "outputs": [],
   "source": [
    "labels_train_d = kmeans.fit_predict(X_test_scaled)"
   ]
  },
  {
   "cell_type": "code",
   "execution_count": 28,
   "metadata": {},
   "outputs": [
    {
     "data": {
      "image/png": "[encoded data removed]",
      "text/plain": [
       "<Figure size 432x288 with 1 Axes>"
      ]
     },
     "metadata": {
      "needs_background": "light"
     },
     "output_type": "display_data"
    }
   ],
   "source": [
    "plt.scatter(X_test_tsne[:, 0], X_test_tsne[:, 1], c=labels_train_d)\n",
    "plt.show()"
   ]
  },
  {
   "cell_type": "markdown",
   "metadata": {},
   "source": [
    "Вычислите средние значения price и CRIM в разных кластерах на тестовых данных."
   ]
  },
  {
   "cell_type": "code",
   "execution_count": 29,
   "metadata": {},
   "outputs": [
    {
     "data": {
      "text/plain": [
       "price    34.553846\n",
       "dtype: float64"
      ]
     },
     "execution_count": 29,
     "metadata": {},
     "output_type": "execute_result"
    }
   ],
   "source": [
    "y_test[labels_train_d==0].mean()"
   ]
  },
  {
   "cell_type": "code",
   "execution_count": 30,
   "metadata": {},
   "outputs": [
    {
     "data": {
      "text/plain": [
       "0.08308461538461537"
      ]
     },
     "execution_count": 30,
     "metadata": {},
     "output_type": "execute_result"
    }
   ],
   "source": [
    "CRIM_d = X_test['CRIM']\n",
    "CRIM_d[labels_train_d==0].mean()"
   ]
  },
  {
   "cell_type": "code",
   "execution_count": 31,
   "metadata": {},
   "outputs": [
    {
     "data": {
      "text/plain": [
       "price    16.710526\n",
       "dtype: float64"
      ]
     },
     "execution_count": 31,
     "metadata": {},
     "output_type": "execute_result"
    }
   ],
   "source": [
    "y_test[labels_train_d==1].mean()"
   ]
  },
  {
   "cell_type": "code",
   "execution_count": 32,
   "metadata": {},
   "outputs": [
    {
     "data": {
      "text/plain": [
       "9.419181842105264"
      ]
     },
     "execution_count": 32,
     "metadata": {},
     "output_type": "execute_result"
    }
   ],
   "source": [
    "CRIM_d[labels_train_d==1].mean()"
   ]
  },
  {
   "cell_type": "code",
   "execution_count": 33,
   "metadata": {},
   "outputs": [
    {
     "data": {
      "text/plain": [
       "price    21.717647\n",
       "dtype: float64"
      ]
     },
     "execution_count": 33,
     "metadata": {},
     "output_type": "execute_result"
    }
   ],
   "source": [
    "y_test[labels_train_d==2].mean()"
   ]
  },
  {
   "cell_type": "code",
   "execution_count": 34,
   "metadata": {},
   "outputs": [
    {
     "data": {
      "text/plain": [
       "0.22250117647058823"
      ]
     },
     "execution_count": 34,
     "metadata": {},
     "output_type": "execute_result"
    }
   ],
   "source": [
    "CRIM_d[labels_train_d==2].mean()"
   ]
  }
 ],
 "metadata": {
  "kernelspec": {
   "display_name": "Python 3",
   "language": "python",
   "name": "python3"
  },
  "language_info": {
   "codemirror_mode": {
    "name": "ipython",
    "version": 3
   },
   "file_extension": ".py",
   "mimetype": "text/x-python",
   "name": "python",
   "nbconvert_exporter": "python",
   "pygments_lexer": "ipython3",
   "version": "3.7.0"
  }
 },
 "nbformat": 4,
 "nbformat_minor": 2
}
